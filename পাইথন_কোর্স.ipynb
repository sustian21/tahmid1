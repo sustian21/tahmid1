{
  "cells": [
    {
      "cell_type": "markdown",
      "metadata": {
        "id": "nu2dWKqxNgvD"
      },
      "source": [
        "# Printing My First Python Code"
      ]
    },
    {
      "cell_type": "code",
      "execution_count": null,
      "metadata": {
        "colab": {
          "base_uri": "https://localhost:8080/"
        },
        "id": "6NrhsVOZJz-G",
        "outputId": "6156d28f-f6ed-4e31-c771-a68d2da7d570"
      },
      "outputs": [
        {
          "name": "stdout",
          "output_type": "stream",
          "text": [
            "Hello Tahmid\n"
          ]
        }
      ],
      "source": [
        "print(\"Hello Tahmid\")"
      ]
    },
    {
      "cell_type": "code",
      "execution_count": null,
      "metadata": {
        "colab": {
          "base_uri": "https://localhost:8080/"
        },
        "id": "FGGyzaBIKQ5w",
        "outputId": "0d06be66-1579-4ce0-ac31-e07c20536105"
      },
      "outputs": [
        {
          "name": "stdout",
          "output_type": "stream",
          "text": [
            "Hello Emon\n"
          ]
        }
      ],
      "source": [
        "student_of_PP10_10 = 'Emon'\n",
        "print(\"Hello\", student_of_PP10_10 )"
      ]
    },
    {
      "cell_type": "code",
      "execution_count": null,
      "metadata": {
        "colab": {
          "base_uri": "https://localhost:8080/"
        },
        "id": "zFpgEgjALMh_",
        "outputId": "99b96443-7479-43dd-ec9e-477f54ea8c1a"
      },
      "outputs": [
        {
          "name": "stdout",
          "output_type": "stream",
          "text": [
            "Hello Fahim\n"
          ]
        }
      ],
      "source": [
        "student_of_PP10_10 = 'Fahim'\n",
        "print(\"Hello\", student_of_PP10_10 )"
      ]
    },
    {
      "cell_type": "code",
      "execution_count": null,
      "metadata": {
        "colab": {
          "base_uri": "https://localhost:8080/"
        },
        "id": "_sz4li04O3Bv",
        "outputId": "5997ff81-bf7b-43da-89f6-d89f65a90fe8"
      },
      "outputs": [
        {
          "name": "stdout",
          "output_type": "stream",
          "text": [
            "I am tahmid\n"
          ]
        }
      ],
      "source": [
        "student_info = 'i am Tahmid'\n",
        "print(student_info.capitalize())"
      ]
    },
    {
      "cell_type": "markdown",
      "metadata": {
        "id": "PI8PxlQATg9d"
      },
      "source": [
        " #string_manipulation"
      ]
    },
    {
      "cell_type": "code",
      "execution_count": null,
      "metadata": {
        "colab": {
          "base_uri": "https://localhost:8080/"
        },
        "id": "eUcshaeUPwH4",
        "outputId": "27451225-c339-4819-806b-6bf71217ff50"
      },
      "outputs": [
        {
          "name": "stdout",
          "output_type": "stream",
          "text": [
            "i am Tahmid\n"
          ]
        }
      ],
      "source": [
        "student_info = '            i am Tahmid              '\n",
        "print(student_info.strip())"
      ]
    },
    {
      "cell_type": "code",
      "execution_count": null,
      "metadata": {
        "colab": {
          "base_uri": "https://localhost:8080/"
        },
        "id": "XUoKB5C7QjQR",
        "outputId": "c6f952c0-f3aa-4646-db67-9cc3ed6e4e3e"
      },
      "outputs": [
        {
          "name": "stdout",
          "output_type": "stream",
          "text": [
            "            i am Tahmid              \n",
            "i am Tahmid\n",
            "I am tahmid\n"
          ]
        }
      ],
      "source": [
        "student_info = '            i am Tahmid              '\n",
        "print(student_info)\n",
        "student_info = student_info.strip()\n",
        "print(student_info)\n",
        "student_info = student_info.capitalize()\n",
        "print(student_info)"
      ]
    },
    {
      "cell_type": "code",
      "execution_count": null,
      "metadata": {
        "colab": {
          "base_uri": "https://localhost:8080/"
        },
        "id": "Vlz_i8w-SXI3",
        "outputId": "8dc29f16-aecd-444a-a1c9-6f57a9990701"
      },
      "outputs": [
        {
          "name": "stdout",
          "output_type": "stream",
          "text": [
            "            i am Tahmid              \n",
            "I am tahmid\n"
          ]
        }
      ],
      "source": [
        "student_info = '            i am Tahmid              '\n",
        "print(student_info)\n",
        "student_info = student_info.strip().capitalize()\n",
        "print(student_info)"
      ]
    },
    {
      "cell_type": "markdown",
      "metadata": {
        "id": "tFml-cCLN7v6"
      },
      "source": [
        "# Class 2 DATA TYPE"
      ]
    },
    {
      "cell_type": "markdown",
      "metadata": {
        "id": "VzHh4C1oc43t"
      },
      "source": [
        "# New Section"
      ]
    },
    {
      "cell_type": "code",
      "execution_count": null,
      "metadata": {
        "id": "nuWjKl44OAXC"
      },
      "outputs": [],
      "source": []
    },
    {
      "cell_type": "markdown",
      "metadata": {
        "id": "wiyDEP0ZZ1It"
      },
      "source": [
        "https://github.com/fazle-Rakib"
      ]
    },
    {
      "cell_type": "markdown",
      "metadata": {
        "id": "reVTK5seOEMC"
      },
      "source": []
    },
    {
      "cell_type": "markdown",
      "metadata": {
        "id": "Q8YcEwCca_pk"
      },
      "source": [
        "Int=1. Float = 4.5 string= \"abc\"/ \"4.5\""
      ]
    },
    {
      "cell_type": "code",
      "execution_count": null,
      "metadata": {
        "colab": {
          "base_uri": "https://localhost:8080/"
        },
        "id": "TwiU0ptKbnFF",
        "outputId": "f61ea062-8685-4d4a-bc20-81a7b69e91d0"
      },
      "outputs": [
        {
          "name": "stdout",
          "output_type": "stream",
          "text": [
            "<class 'int'>\n",
            "<class 'float'>\n",
            "<class 'str'>\n"
          ]
        }
      ],
      "source": [
        "class_no = 2\n",
        "val_of_pi = 3.1416\n",
        "intro = 'This is class of PP_10'\n",
        "print(type(class_no))\n",
        "print(type(val_of_pi))\n",
        "print(type(intro))"
      ]
    },
    {
      "cell_type": "markdown",
      "metadata": {
        "id": "ZP_jzT4oeh_u"
      },
      "source": [
        "# Commenting"
      ]
    },
    {
      "cell_type": "code",
      "execution_count": null,
      "metadata": {
        "colab": {
          "base_uri": "https://localhost:8080/"
        },
        "id": "lE3j7WNAemXO",
        "outputId": "5822d1c9-185b-4251-e74a-37d67d19abe0"
      },
      "outputs": [
        {
          "data": {
            "text/plain": [
              "3.1416"
            ]
          },
          "execution_count": 7,
          "metadata": {},
          "output_type": "execute_result"
        }
      ],
      "source": [
        "# in the next we block, we are defining some value\n",
        "val_of_pi"
      ]
    },
    {
      "cell_type": "code",
      "execution_count": null,
      "metadata": {
        "id": "V1h8eM4fe7gq"
      },
      "outputs": [],
      "source": [
        "class_no = 2\n",
        "val_of_pi = 3.1416\n",
        "intro = 'This is class of PP_10'"
      ]
    },
    {
      "cell_type": "markdown",
      "metadata": {
        "id": "0QNKAYO-iDrq"
      },
      "source": [
        "# Variable  Naming"
      ]
    },
    {
      "cell_type": "code",
      "execution_count": null,
      "metadata": {
        "id": "e2GQnWX-fr69"
      },
      "outputs": [],
      "source": [
        "class1 = 2\n",
        "# e. g. of invalid variable naming\n",
        "# class_n! = 1\n",
        "# 1class_3 = 5\n"
      ]
    },
    {
      "cell_type": "code",
      "execution_count": null,
      "metadata": {
        "colab": {
          "base_uri": "https://localhost:8080/"
        },
        "id": "Q8tdbNlLiNIM",
        "outputId": "aedd16fe-86df-4355-adcb-3cd4cb9bdd09"
      },
      "outputs": [
        {
          "name": "stdout",
          "output_type": "stream",
          "text": [
            "What is your name?Tahmid\n",
            "Welcome  Tahmid\n"
          ]
        }
      ],
      "source": [
        "name = input(\"What is your name?\")\n",
        "print('Welcome ', name)"
      ]
    },
    {
      "cell_type": "code",
      "execution_count": null,
      "metadata": {
        "colab": {
          "base_uri": "https://localhost:8080/"
        },
        "id": "9rVmSwOJiZLt",
        "outputId": "f255a21c-f06f-47af-945b-6f212a1eb676"
      },
      "outputs": [
        {
          "name": "stdout",
          "output_type": "stream",
          "text": [
            "Input your first number: 5\n",
            "Input your second number: 6\n",
            "The sum of two numbers:  ('5', <class 'type'>, '6', <class 'str'>)\n"
          ]
        },
        {
          "data": {
            "text/plain": [
              "tuple"
            ]
          },
          "execution_count": 33,
          "metadata": {},
          "output_type": "execute_result"
        }
      ],
      "source": [
        "first_num = input(\"Input your first number: \"), type(first_num)\n",
        "second_num = input(\"Input your second number: \"), type(second_num)\n",
        "sum = first_num + second_num\n",
        "print(\"The sum of two numbers: \", sum)\n",
        "\n",
        "type(sum)"
      ]
    },
    {
      "cell_type": "code",
      "execution_count": null,
      "metadata": {
        "colab": {
          "base_uri": "https://localhost:8080/",
          "height": 35
        },
        "id": "VJ-hrhJymGBK",
        "outputId": "c7d26ca9-82b5-422d-bb7b-8d43c74328da"
      },
      "outputs": [
        {
          "data": {
            "application/vnd.google.colaboratory.intrinsic+json": {
              "type": "string"
            },
            "text/plain": [
              "'this is a string concatination'"
            ]
          },
          "execution_count": 23,
          "metadata": {},
          "output_type": "execute_result"
        }
      ],
      "source": [
        "# string concatination\n",
        "\"this is a \"+ \"string concatination\""
      ]
    },
    {
      "cell_type": "code",
      "execution_count": null,
      "metadata": {
        "colab": {
          "base_uri": "https://localhost:8080/"
        },
        "id": "kn9erKSTqH-f",
        "outputId": "538511bb-f845-4b51-82f1-eeeafe66baac"
      },
      "outputs": [
        {
          "name": "stdout",
          "output_type": "stream",
          "text": [
            "Input your first number: 5\n",
            "Input your second number: 2\n",
            "The sum of two numbers:  7\n"
          ]
        }
      ],
      "source": [
        "first_num = input(\"Input your first number: \")\n",
        "second_num = input(\"Input your second number: \")\n",
        "sum = int(first_num) + int(second_num)\n",
        "print(\"The sum of two numbers: \", sum)"
      ]
    },
    {
      "cell_type": "code",
      "execution_count": null,
      "metadata": {
        "colab": {
          "base_uri": "https://localhost:8080/"
        },
        "id": "OVCEkSK2tS2o",
        "outputId": "35c429ce-8395-49cc-e634-526dce5837df"
      },
      "outputs": [
        {
          "name": "stdout",
          "output_type": "stream",
          "text": [
            "Data type of first_num var before type casting:  <class 'int'>\n",
            "DAta type of first_num var after type casting:  <class 'int'>\n"
          ]
        }
      ],
      "source": [
        "first_num = \"10\"\n",
        "second_num = \"20\"\n",
        "second_num = int(second_num)\n",
        "print(\"Data type of first_num var before type casting: \", type(second_num))\n",
        "first_num = (int(first_num))\n",
        "print(\"DAta type of first_num var after type casting: \", type(first_num))"
      ]
    },
    {
      "cell_type": "code",
      "execution_count": null,
      "metadata": {
        "colab": {
          "base_uri": "https://localhost:8080/"
        },
        "id": "M4TT0K46uckU",
        "outputId": "13a2499c-f30b-4167-f71a-d048a58bf097"
      },
      "outputs": [
        {
          "name": "stdout",
          "output_type": "stream",
          "text": [
            "Data Type of Both Variable after casting:  <class 'int'> <class 'int'>\n"
          ]
        }
      ],
      "source": [
        "first_num = int(first_num)\n",
        "second_num = int(second_num)\n",
        "print(\"Data Type of Both Variable after casting: \", type(first_num), type( second_num))"
      ]
    },
    {
      "cell_type": "code",
      "execution_count": null,
      "metadata": {
        "colab": {
          "base_uri": "https://localhost:8080/"
        },
        "id": "_569GVXjvZ8X",
        "outputId": "a2ada58f-b3f7-4179-ae64-7caea85b5ba5"
      },
      "outputs": [
        {
          "name": "stdout",
          "output_type": "stream",
          "text": [
            "The sum of two numbers:  30\n"
          ]
        }
      ],
      "source": [
        "sum = first_num + second_num\n",
        "print(\"The sum of two numbers: \", sum)"
      ]
    },
    {
      "cell_type": "markdown",
      "metadata": {
        "id": "RZhOJ5j_vajv"
      },
      "source": [
        "# change the type of data"
      ]
    },
    {
      "cell_type": "code",
      "execution_count": null,
      "metadata": {
        "colab": {
          "base_uri": "https://localhost:8080/"
        },
        "id": "-Py90cMkwlUM",
        "outputId": "f1ddc5f0-805e-4f25-f24d-55c04de5f583"
      },
      "outputs": [
        {
          "name": "stdout",
          "output_type": "stream",
          "text": [
            "Input your first number: 104.5\n",
            "Input your second number: 95.5\n"
          ]
        }
      ],
      "source": [
        "first_num = input(\"Input your first number: \")\n",
        "second_num = input(\"Input your second number: \")"
      ]
    },
    {
      "cell_type": "code",
      "execution_count": null,
      "metadata": {
        "colab": {
          "base_uri": "https://localhost:8080/"
        },
        "id": "HZvE8N9vyqfr",
        "outputId": "4563edd8-5ce8-4041-b27d-76b613f0b095"
      },
      "outputs": [
        {
          "name": "stdout",
          "output_type": "stream",
          "text": [
            "Data type of first_num var:  <class 'str'>\n",
            "Data type of second_num var:  <class 'str'>\n"
          ]
        }
      ],
      "source": [
        "print(\"Data type of first_num var: \", type(first_num))\n",
        "print(\"Data type of second_num var: \", type(second_num))"
      ]
    },
    {
      "cell_type": "code",
      "execution_count": null,
      "metadata": {
        "colab": {
          "base_uri": "https://localhost:8080/"
        },
        "id": "UqkRUlUvy4Er",
        "outputId": "2eb9aeba-71d7-4c25-99d3-b9ac6d9463ba"
      },
      "outputs": [
        {
          "name": "stdout",
          "output_type": "stream",
          "text": [
            "Data type of first_num var:  <class 'float'> <class 'float'>\n"
          ]
        }
      ],
      "source": [
        "first_num = float(first_num)\n",
        "second_num = float(second_num)\n",
        "print(\"Data type of first_num var: \", type(first_num), type(second_num))\n"
      ]
    },
    {
      "cell_type": "code",
      "execution_count": null,
      "metadata": {
        "colab": {
          "base_uri": "https://localhost:8080/"
        },
        "id": "8FhcdjguzMej",
        "outputId": "9bf5d8e3-0ba2-490c-b94b-219f02e3cc5b"
      },
      "outputs": [
        {
          "name": "stdout",
          "output_type": "stream",
          "text": [
            "The sum of two numbers:  200.0\n"
          ]
        }
      ],
      "source": [
        "sum = first_num + second_num\n",
        "print(\"The sum of two numbers: \", sum)"
      ]
    },
    {
      "cell_type": "markdown",
      "metadata": {
        "id": "SE6x1hkY3GAA"
      },
      "source": [
        "+,-*,/ করে নিয়ে আসতে হবে।"
      ]
    },
    {
      "cell_type": "markdown",
      "metadata": {
        "id": "9xknkASI0jH8"
      },
      "source": [
        "# Homework"
      ]
    },
    {
      "cell_type": "code",
      "execution_count": null,
      "metadata": {
        "colab": {
          "base_uri": "https://localhost:8080/"
        },
        "id": "Y655XDE20pAs",
        "outputId": "c9acd1da-d5d2-42b9-8031-e3b94fbb51b9"
      },
      "outputs": [
        {
          "name": "stdout",
          "output_type": "stream",
          "text": [
            "Input first value: 55\n",
            "Input second value: 66\n"
          ]
        }
      ],
      "source": [
        "first_num = input(\"Input first value: \")\n",
        "second_num = input(\"Input second value: \")\n"
      ]
    },
    {
      "cell_type": "code",
      "execution_count": null,
      "metadata": {
        "colab": {
          "base_uri": "https://localhost:8080/"
        },
        "id": "-8hovhB-3Qar",
        "outputId": "99461b9b-a8d7-45fd-99b8-0de223c68aae"
      },
      "outputs": [
        {
          "name": "stdout",
          "output_type": "stream",
          "text": [
            "<class 'str'>\n"
          ]
        }
      ],
      "source": [
        "type(first_num)\n",
        "print(type(first_num))"
      ]
    },
    {
      "cell_type": "code",
      "execution_count": null,
      "metadata": {
        "colab": {
          "base_uri": "https://localhost:8080/"
        },
        "id": "Ph_gSwcV3mvx",
        "outputId": "afbe652d-c649-4489-d1e7-07e06f677acc"
      },
      "outputs": [
        {
          "name": "stdout",
          "output_type": "stream",
          "text": [
            "<class 'float'>\n"
          ]
        }
      ],
      "source": [
        "first_num = float(first_num)\n",
        "second_num = float(second_num)\n",
        "print(type(first_num))\n"
      ]
    },
    {
      "cell_type": "code",
      "execution_count": null,
      "metadata": {
        "colab": {
          "base_uri": "https://localhost:8080/"
        },
        "id": "70jQik1Z4D9n",
        "outputId": "b5fce43a-5368-493f-b309-c64f376f3fbe"
      },
      "outputs": [
        {
          "name": "stdout",
          "output_type": "stream",
          "text": [
            "The sum of two numbers:  121.0\n"
          ]
        }
      ],
      "source": [
        "sum = first_num + second_num\n",
        "print(\"The sum of two numbers: \", sum)"
      ]
    },
    {
      "cell_type": "code",
      "execution_count": null,
      "metadata": {
        "colab": {
          "base_uri": "https://localhost:8080/"
        },
        "id": "2G5XOcB04lmr",
        "outputId": "68720bba-cbe8-40b6-e16c-b6ae9223ef6d"
      },
      "outputs": [
        {
          "name": "stdout",
          "output_type": "stream",
          "text": [
            "Input first value: 9\n",
            "Input second value: 5\n",
            "<class 'str'>\n",
            "<class 'float'>\n",
            "The sum of two numbers:  14.0\n"
          ]
        }
      ],
      "source": [
        "first_num = input(\"Input first value: \")\n",
        "second_num = input(\"Input second value: \")\n",
        "type(first_num)\n",
        "print(type(first_num))\n",
        "first_num = float(first_num)\n",
        "second_num = float(second_num)\n",
        "print(type(first_num))\n",
        "sum = first_num + second_num\n",
        "print(\"The sum of two numbers: \", sum)"
      ]
    },
    {
      "cell_type": "code",
      "execution_count": null,
      "metadata": {
        "colab": {
          "base_uri": "https://localhost:8080/"
        },
        "id": "2wA1VQkm41MU",
        "outputId": "b1b11d82-e628-429a-c52c-c10eb45ebd8c"
      },
      "outputs": [
        {
          "name": "stdout",
          "output_type": "stream",
          "text": [
            "Input first value: 6\n",
            "Input second value: 8\n",
            "<class 'str'>\n",
            "<class 'float'>\n",
            "The minus of two numbers:  -2.0\n"
          ]
        }
      ],
      "source": [
        "first_num = input(\"Input first value: \")\n",
        "second_num = input(\"Input second value: \")\n",
        "type(first_num)\n",
        "print(type(first_num))\n",
        "first_num = float(first_num)\n",
        "second_num = float(second_num)\n",
        "print(type(first_num))\n",
        "minus = first_num - second_num\n",
        "print(\"The minus of two numbers: \", minus)"
      ]
    },
    {
      "cell_type": "code",
      "execution_count": null,
      "metadata": {
        "colab": {
          "base_uri": "https://localhost:8080/"
        },
        "id": "XnjtE6pB66r_",
        "outputId": "e86a0d6c-5d78-4431-ce23-68159f4f97af"
      },
      "outputs": [
        {
          "name": "stdout",
          "output_type": "stream",
          "text": [
            "Input first value: 55\n",
            "Input second value: 60\n",
            "<class 'str'>\n",
            "<class 'float'>\n",
            "The multiply of two numbers:  3300.0\n"
          ]
        }
      ],
      "source": [
        "first_num = input(\"Input first value: \")\n",
        "second_num = input(\"Input second value: \")\n",
        "type(first_num)\n",
        "print(type(first_num))\n",
        "first_num = float(first_num)\n",
        "second_num = float(second_num)\n",
        "print(type(first_num))\n",
        "multiply = first_num * second_num\n",
        "print(\"The multiply of two numbers: \", multiply)"
      ]
    },
    {
      "cell_type": "code",
      "execution_count": null,
      "metadata": {
        "colab": {
          "base_uri": "https://localhost:8080/"
        },
        "id": "cxoNyeAH7TRJ",
        "outputId": "0d874783-08f0-470e-eba0-ccb4453c24ed"
      },
      "outputs": [
        {
          "name": "stdout",
          "output_type": "stream",
          "text": [
            "Input first value: 99.5\n",
            "Input second value: 55.9\n",
            "<class 'str'>\n",
            "<class 'float'>\n",
            "The divide of two numbers:  1.779964221824687\n"
          ]
        }
      ],
      "source": [
        "first_num = input(\"Input first value: \")\n",
        "second_num = input(\"Input second value: \")\n",
        "type(first_num)\n",
        "print(type(first_num))\n",
        "first_num = float(first_num)\n",
        "second_num = float(second_num)\n",
        "print(type(first_num))\n",
        "divide = first_num / second_num\n",
        "print(\"The divide of two numbers: \", divide)"
      ]
    },
    {
      "cell_type": "code",
      "execution_count": null,
      "metadata": {
        "colab": {
          "base_uri": "https://localhost:8080/"
        },
        "id": "w2HfieQI8JYN",
        "outputId": "812f6466-fb36-48e7-98a8-269de502737b"
      },
      "outputs": [
        {
          "name": "stdout",
          "output_type": "stream",
          "text": [
            "Input first value: 69.69\n",
            "Input second value: 96.96\n",
            "<class 'str'>\n",
            "<class 'float'>\n",
            "The sum of two numbers:  166.64999999999998\n",
            "The minus of two numbers:  -27.269999999999996\n",
            "The multiply of two numbers:  6757.1424\n",
            "The divide of two numbers:  0.71875\n"
          ]
        }
      ],
      "source": [
        "first_num = input(\"Input first value: \")\n",
        "second_num = input(\"Input second value: \")\n",
        "type(first_num)\n",
        "print(type(first_num))\n",
        "first_num = float(first_num)\n",
        "second_num = float(second_num)\n",
        "print(type(first_num))\n",
        "sum = first_num + second_num\n",
        "print(\"The sum of two numbers: \", sum)\n",
        "minus = first_num - second_num\n",
        "print(\"The minus of two numbers: \", minus)\n",
        "multiply = first_num * second_num\n",
        "print(\"The multiply of two numbers: \", multiply)\n",
        "divide = first_num / second_num\n",
        "print(\"The divide of two numbers: \", divide)\n",
        "\n"
      ]
    },
    {
      "cell_type": "code",
      "execution_count": null,
      "metadata": {
        "id": "aOBSXEjk0Rea"
      },
      "outputs": [],
      "source": []
    },
    {
      "cell_type": "markdown",
      "metadata": {
        "id": "1Ap8SIid0S5x"
      },
      "source": [
        "## **Class** **3**"
      ]
    },
    {
      "cell_type": "markdown",
      "metadata": {
        "id": "ZTlZLxlF0o1Y"
      },
      "source": [
        "https"
      ]
    },
    {
      "cell_type": "code",
      "execution_count": null,
      "metadata": {
        "colab": {
          "base_uri": "https://localhost:8080/",
          "height": 165
        },
        "id": "C68KJ-xY20Qh",
        "outputId": "3e246167-b2cc-42c7-84ce-8cf2a2792156"
      },
      "outputs": [
        {
          "ename": "TypeError",
          "evalue": "can only concatenate str (not \"int\") to str",
          "output_type": "error",
          "traceback": [
            "\u001b[0;31m---------------------------------------------------------------------------\u001b[0m",
            "\u001b[0;31mTypeError\u001b[0m                                 Traceback (most recent call last)",
            "\u001b[0;32m<ipython-input-3-0d6e2df89fd1>\u001b[0m in \u001b[0;36m<cell line: 2>\u001b[0;34m()\u001b[0m\n\u001b[1;32m      1\u001b[0m \u001b[0mnumber\u001b[0m \u001b[0;34m=\u001b[0m \u001b[0;34m\"10\"\u001b[0m\u001b[0;34m\u001b[0m\u001b[0;34m\u001b[0m\u001b[0m\n\u001b[0;32m----> 2\u001b[0;31m \u001b[0mprint\u001b[0m\u001b[0;34m(\u001b[0m\u001b[0mnumber\u001b[0m \u001b[0;34m+\u001b[0m \u001b[0;36m5\u001b[0m\u001b[0;34m)\u001b[0m\u001b[0;34m\u001b[0m\u001b[0;34m\u001b[0m\u001b[0m\n\u001b[0m",
            "\u001b[0;31mTypeError\u001b[0m: can only concatenate str (not \"int\") to str"
          ]
        }
      ],
      "source": [
        "number = \"10\"\n",
        "print(number + 5)\n"
      ]
    },
    {
      "cell_type": "code",
      "execution_count": null,
      "metadata": {
        "colab": {
          "base_uri": "https://localhost:8080/"
        },
        "id": "Z7NvoWp05GVO",
        "outputId": "68bf32b4-9bed-42f5-bb69-ff9f39c8e5b5"
      },
      "outputs": [
        {
          "name": "stdout",
          "output_type": "stream",
          "text": [
            "<class 'complex'>\n",
            "<class 'bool'>\n"
          ]
        }
      ],
      "source": [
        "a = 10 #int\n",
        "b = 10.5 #float\n",
        "c = \"Text\" #string\n",
        "d = True\n",
        "e = 1+2j #complex\n",
        "\n",
        "print(type(e))\n",
        "print(type(d))\n"
      ]
    },
    {
      "cell_type": "code",
      "execution_count": null,
      "metadata": {
        "colab": {
          "base_uri": "https://localhost:8080/"
        },
        "id": "ZJjEfhA56Ujh",
        "outputId": "7400f653-d122-46da-cbeb-a8c1ac304d16"
      },
      "outputs": [
        {
          "data": {
            "text/plain": [
              "6"
            ]
          },
          "execution_count": 8,
          "metadata": {},
          "output_type": "execute_result"
        }
      ],
      "source": [
        "a = 5 #Statement  => execute\n",
        "2*a-4 #Expression => output => evalation"
      ]
    },
    {
      "cell_type": "markdown",
      "metadata": {
        "id": "wwOUetXq7FpZ"
      },
      "source": [
        "# output formation"
      ]
    },
    {
      "cell_type": "code",
      "execution_count": null,
      "metadata": {
        "colab": {
          "base_uri": "https://localhost:8080/"
        },
        "id": "qzuIOBcE7Jfw",
        "outputId": "3172fc11-5f79-4f20-f319-4d56b8492d14"
      },
      "outputs": [
        {
          "name": "stdout",
          "output_type": "stream",
          "text": [
            "I am from Gazipur, Bangladesh\n",
            "I am from Gazipur , Bangladesh\n",
            "I am from Gazipur, Bangladesh\n",
            "I am from Gazipur, Bangladesh\n",
            "I am from Gazipur, Bangladesh\n",
            "I am from Gazipur, Bangladesh\n",
            "I am from Akhalia Bangladesh, Gazipur\n"
          ]
        }
      ],
      "source": [
        "Region = \"Gazipur\"\n",
        "Country = \"Bangladesh\"\n",
        "print(\"I am from Gazipur, Bangladesh\")\n",
        "print(\"I am from\", Region,\",\", Country)\n",
        "print(\"I am from {Region}, {Country}\")\n",
        "print(\"I am from {}, {}\".format(\"Gazipur\", \"Bangladesh\"))\n",
        "print(\"I am from {}, {}\".format(Region, Country))\n",
        "print(\"I am from {}, {}\".format(Region, Country))\n",
        "print(\"I am from {place} {1}, {0}\".format(Region, Country, place = \"Akhalia\"))"
      ]
    },
    {
      "cell_type": "code",
      "execution_count": null,
      "metadata": {
        "colab": {
          "base_uri": "https://localhost:8080/"
        },
        "id": "wrBk9FfD-o2H",
        "outputId": "aa99d855-24ff-4a2e-d9f9-cbcaed562807"
      },
      "outputs": [
        {
          "name": "stdout",
          "output_type": "stream",
          "text": [
            "Your AC BAL is: 12.35\n",
            "Your AC BAL is: 123456.35 12.35\n",
            "Your AC BAL is: 12.35\n",
            "Your AC BAL is:    12.3500\n"
          ]
        }
      ],
      "source": [
        "net_balance = 123456.345618558\n",
        "balance = 12.35\n",
        "print(\"Your AC BAL is: {:.2f}\".format(balance))\n",
        "print(\"Your AC BAL is: {0:.2f} {1}\".format(net_balance, balance))\n",
        "print(\"Your AC BAL is: {1:.2f}\".format(net_balance, balance))\n",
        "print(\"Your AC BAL is: {1:10.4f}\".format(net_balance, balance))\n",
        "\n"
      ]
    },
    {
      "cell_type": "code",
      "execution_count": null,
      "metadata": {
        "colab": {
          "base_uri": "https://localhost:8080/"
        },
        "id": "KPaq2-j9At6X",
        "outputId": "dd4b27d3-b281-477b-c4e2-561721e1d3f0"
      },
      "outputs": [
        {
          "name": "stdout",
          "output_type": "stream",
          "text": [
            "This is line: no- 1\n",
            "This is line no- 2. \n",
            "This is line__ no- 3\n",
            "I am Tahmid. \n",
            "From Gazipur, \"Bangladesh\"\n"
          ]
        }
      ],
      "source": [
        "print( \"This is line\",\" no- 1\", sep=\":\")\n",
        "print( \"This is line no- 2\", end= \". \\n\")\n",
        "print( \"This is line\",\" no- 3\", sep=\"__\")\n",
        "#escape sequence\n",
        "new_line = \"I am Tahmid. \\nFrom Gazipur, \\\"Bangladesh\\\"\"\n",
        "print(new_line)"
      ]
    },
    {
      "cell_type": "code",
      "execution_count": null,
      "metadata": {
        "colab": {
          "base_uri": "https://localhost:8080/"
        },
        "id": "AA9g7YptKIX9",
        "outputId": "e279e449-6abd-4def-f7bc-1bab92ec9a40"
      },
      "outputs": [
        {
          "name": "stdout",
          "output_type": "stream",
          "text": [
            "I am Tahmid. \n",
            "From Gazipur, \"Bangladesh\". Liberated in 1971 <class 'str'>\n"
          ]
        }
      ],
      "source": [
        "#Escape Character N\n",
        "new_line = \"I am Tahmid. \\nFrom Gazipur, \\\"Bangladesh\\\". Liberated in 1971\"\n",
        "print(new_line, type(new_line))"
      ]
    },
    {
      "cell_type": "code",
      "execution_count": null,
      "metadata": {
        "colab": {
          "base_uri": "https://localhost:8080/"
        },
        "id": "z7tOC7NwLjs9",
        "outputId": "2c3d71d7-e798-4478-a321-c95a66748dd1"
      },
      "outputs": [
        {
          "name": "stdout",
          "output_type": "stream",
          "text": [
            "I\n",
            "am\n",
            "a\n",
            "multiline\n",
            "str\n",
            "I am Tahmid. \n",
            "From Gazipur, \"Bangladesh\". Liberated in 1971\n"
          ]
        }
      ],
      "source": [
        "multilne = '''I\n",
        "am\n",
        "a\n",
        "multiline\n",
        "str\n",
        "'''\n",
        "str_contination = multilne + new_line\n",
        "\n",
        "print(str_contination)"
      ]
    },
    {
      "cell_type": "code",
      "execution_count": null,
      "metadata": {
        "colab": {
          "base_uri": "https://localhost:8080/"
        },
        "id": "hI6tb3WnOKx1",
        "outputId": "1194a87d-d8bf-4886-be92-64758e4353bb"
      },
      "outputs": [
        {
          "name": "stdout",
          "output_type": "stream",
          "text": [
            "Introduction to Python Programing Language\n",
            "tr\n"
          ]
        }
      ],
      "source": [
        "message = \"Introduction to Python Programing Language\"\n",
        "print(message)\n",
        "#single char acess\n",
        "#print(meggae[2])\n",
        "#multiple char acess\n",
        "#print(message[2:4])\n",
        "to_substring = message[2:4]\n",
        "print(to_substring)\n"
      ]
    },
    {
      "cell_type": "code",
      "execution_count": null,
      "metadata": {
        "colab": {
          "base_uri": "https://localhost:8080/",
          "height": 128
        },
        "id": "EddMC5DGOx8O",
        "outputId": "875c0c40-694e-4f30-b9f7-1ae74ac1c986"
      },
      "outputs": [
        {
          "ename": "SyntaxError",
          "evalue": "cannot assign to expression here. Maybe you meant '==' instead of '='? (<ipython-input-77-0272492da517>, line 7)",
          "output_type": "error",
          "traceback": [
            "\u001b[0;36m  File \u001b[0;32m\"<ipython-input-77-0272492da517>\"\u001b[0;36m, line \u001b[0;32m7\u001b[0m\n\u001b[0;31m    length-of_to = len('to')\u001b[0m\n\u001b[0m    ^\u001b[0m\n\u001b[0;31mSyntaxError\u001b[0m\u001b[0;31m:\u001b[0m cannot assign to expression here. Maybe you meant '==' instead of '='?\n"
          ]
        }
      ],
      "source": [
        "#searching/find\n",
        "print(message.find('to'))\n",
        "#length\n",
        "print(len(message))\n",
        "\n",
        "frist_index_of_to = message.find('to')\n",
        "length-of_to = len('to')\n",
        "print(message[frist_index_of_to:frist_index_of_to+length-of_to])"
      ]
    },
    {
      "cell_type": "code",
      "execution_count": null,
      "metadata": {
        "id": "Umt4sk58QwXl"
      },
      "outputs": [],
      "source": []
    },
    {
      "cell_type": "code",
      "execution_count": null,
      "metadata": {
        "colab": {
          "base_uri": "https://localhost:8080/"
        },
        "id": "3FgwpfXNRTps",
        "outputId": "2b21ae58-9a04-4263-8648-a7c62985904f"
      },
      "outputs": [
        {
          "name": "stdout",
          "output_type": "stream",
          "text": [
            "29 06 2024\n",
            "2024-06-30\n"
          ]
        }
      ],
      "source": [
        "date = '2024-06-29'\n",
        "\n",
        "year = date[0:4]\n",
        "month = date[5:7]\n",
        "day =date[8:10]\n",
        "print(day, month, year)\n",
        "\n",
        "#replace the day with next day\n",
        "date = date.replace('29', '30')\n",
        " # Use 'replace' instead of 'repace' and reassign to update the date\n",
        "print(date)"
      ]
    },
    {
      "cell_type": "code",
      "execution_count": null,
      "metadata": {
        "colab": {
          "base_uri": "https://localhost:8080/"
        },
        "id": "5SSeBUYtTiBM",
        "outputId": "e38ad406-3de9-4e30-bb30-941c45f889fb"
      },
      "outputs": [
        {
          "name": "stdout",
          "output_type": "stream",
          "text": [
            "Introduction to ARTHROPODA programing language\n"
          ]
        }
      ],
      "source": [
        "message = \"Introduction to PYTHON programing language\" #with ARTHROPODA\n",
        "message = message.replace('PYTHON', 'ARTHROPODA')\n",
        "print(message)"
      ]
    },
    {
      "cell_type": "code",
      "execution_count": null,
      "metadata": {
        "id": "BLM_VVewbYP9"
      },
      "outputs": [],
      "source": []
    },
    {
      "cell_type": "markdown",
      "metadata": {
        "id": "5zGE-jZAba_v"
      },
      "source": [
        "20/11/24\n",
        "NEW CLASS\n"
      ]
    },
    {
      "cell_type": "markdown",
      "metadata": {
        "id": "YeiIaXl3bwwd"
      },
      "source": [
        "https://www.google.com/url?q=https%3A%2F%2Ftinyurl.com%2FPP10-all-in-one"
      ]
    },
    {
      "cell_type": "code",
      "execution_count": null,
      "metadata": {
        "colab": {
          "base_uri": "https://localhost:8080/"
        },
        "id": "tzocTUS0mQRP",
        "outputId": "2cfa8275-adb7-4ab8-faf0-ea9d6a5bfb96"
      },
      "outputs": [
        {
          "name": "stdout",
          "output_type": "stream",
          "text": [
            "first value: 55\n",
            "second value: 66\n",
            "Your Sum is: 121.0\n",
            "110.454546\n"
          ]
        }
      ],
      "source": [
        "first_num = input(\"first value: \")\n",
        "Second_value = input(\"second value: \")\n",
        "first_num = float(first_num)\n",
        "Second_value = float(Second_value)\n",
        "\n",
        "sum = first_num + Second_value\n",
        "print(\"Your Sum is:\", sum)\n",
        "grade = sum - float(10.545454)\n",
        "print(grade)"
      ]
    },
    {
      "cell_type": "code",
      "execution_count": null,
      "metadata": {
        "colab": {
          "base_uri": "https://localhost:8080/"
        },
        "id": "1b3Qa8INr3YB",
        "outputId": "ef26ce44-af8c-48a3-aeb1-38c1590801fa"
      },
      "outputs": [
        {
          "name": "stdout",
          "output_type": "stream",
          "text": [
            "11.0\n"
          ]
        }
      ],
      "source": [
        "print(sum)"
      ]
    },
    {
      "cell_type": "markdown",
      "metadata": {
        "id": "wBjO3Wbj18xk"
      },
      "source": [
        "হাসতে দ্যাখো!"
      ]
    },
    {
      "cell_type": "code",
      "execution_count": null,
      "metadata": {
        "id": "pYZ6CiO_xz4f"
      },
      "outputs": [],
      "source": []
    },
    {
      "cell_type": "markdown",
      "metadata": {
        "id": "GjLy2dRf6gII"
      },
      "source": [
        "CLASS 5"
      ]
    },
    {
      "cell_type": "code",
      "execution_count": null,
      "metadata": {
        "colab": {
          "base_uri": "https://localhost:8080/"
        },
        "id": "keUC7nyS6ldw",
        "outputId": "3d50bc98-5a45-429f-ca51-8ea187acec47"
      },
      "outputs": [
        {
          "name": "stdout",
          "output_type": "stream",
          "text": [
            "<class 'list'> 3\n"
          ]
        }
      ],
      "source": [
        "groceries = ['rice','Oil', 'Egg']\n",
        "print(type(groceries), len(groceries))"
      ]
    },
    {
      "cell_type": "code",
      "execution_count": null,
      "metadata": {
        "id": "Ek-cNDobClyI"
      },
      "outputs": [],
      "source": [
        "groceries.append('Salt')"
      ]
    },
    {
      "cell_type": "code",
      "execution_count": null,
      "metadata": {
        "colab": {
          "base_uri": "https://localhost:8080/"
        },
        "id": "qM5mnyxfFVK3",
        "outputId": "e4df46b1-6e1b-45aa-ceb2-d57a4455c93b"
      },
      "outputs": [
        {
          "data": {
            "text/plain": [
              "4"
            ]
          },
          "execution_count": 6,
          "metadata": {},
          "output_type": "execute_result"
        }
      ],
      "source": [
        "len(groceries)"
      ]
    },
    {
      "cell_type": "code",
      "execution_count": null,
      "metadata": {
        "colab": {
          "base_uri": "https://localhost:8080/",
          "height": 159
        },
        "id": "kL9aE2noFWEn",
        "outputId": "542beef1-10a1-4b35-ca11-ad17322d161f"
      },
      "outputs": [
        {
          "ename": "ValueError",
          "evalue": "list.remove(x): x not in list",
          "output_type": "error",
          "traceback": [
            "\u001b[0;31m---------------------------------------------------------------------------\u001b[0m",
            "\u001b[0;31mValueError\u001b[0m                                Traceback (most recent call last)",
            "\u001b[0;32m<ipython-input-9-9d0764bf35cf>\u001b[0m in \u001b[0;36m<cell line: 1>\u001b[0;34m()\u001b[0m\n\u001b[0;32m----> 1\u001b[0;31m \u001b[0mgroceries\u001b[0m\u001b[0;34m.\u001b[0m\u001b[0mremove\u001b[0m\u001b[0;34m(\u001b[0m\u001b[0;34m'Oil'\u001b[0m\u001b[0;34m)\u001b[0m\u001b[0;34m\u001b[0m\u001b[0;34m\u001b[0m\u001b[0m\n\u001b[0m\u001b[1;32m      2\u001b[0m \u001b[0mprint\u001b[0m\u001b[0;34m(\u001b[0m\u001b[0mgroceries\u001b[0m\u001b[0;34m)\u001b[0m\u001b[0;34m\u001b[0m\u001b[0;34m\u001b[0m\u001b[0m\n",
            "\u001b[0;31mValueError\u001b[0m: list.remove(x): x not in list"
          ]
        }
      ],
      "source": [
        "groceries.remove('Oil')\n",
        "print(groceries)"
      ]
    },
    {
      "cell_type": "code",
      "execution_count": null,
      "metadata": {
        "colab": {
          "base_uri": "https://localhost:8080/"
        },
        "id": "X3V3xUDGFocv",
        "outputId": "5e46c98b-7b4f-4407-c10a-8e19a5cd66b9"
      },
      "outputs": [
        {
          "name": "stdout",
          "output_type": "stream",
          "text": [
            "Salt\n"
          ]
        }
      ],
      "source": [
        "print(groceries[2])"
      ]
    },
    {
      "cell_type": "code",
      "execution_count": null,
      "metadata": {
        "colab": {
          "base_uri": "https://localhost:8080/"
        },
        "id": "jb5XTJY2Gtm_",
        "outputId": "aae80ff4-2719-4533-f719-c1ff2bee5512"
      },
      "outputs": [
        {
          "name": "stdout",
          "output_type": "stream",
          "text": [
            "['rice', 'Ruti-Fish', 'Salt']\n"
          ]
        }
      ],
      "source": [
        "groceries[1] = 'Ruti-Fish'\n",
        "print(groceries)"
      ]
    },
    {
      "cell_type": "code",
      "execution_count": null,
      "metadata": {
        "colab": {
          "base_uri": "https://localhost:8080/"
        },
        "id": "NPK0xnDDHHZ3",
        "outputId": "9e36f3df-c81f-4f13-ae48-0c30a7a6c605"
      },
      "outputs": [
        {
          "name": "stdout",
          "output_type": "stream",
          "text": [
            "['rice', 'Ruti-Fish', 'Salt', 'updated_list_of_groceries', ['Lentil', 'Onion', 'Gerlic', 'Ginger', 'Potato', 'Tomato'], 'Lentil', 'Onion', 'Gerlic', 'Ginger', 'Potato', 'Tomato']\n"
          ]
        }
      ],
      "source": [
        "#Lentil, Onion, Gerlic, Ginger, Potato, Tomato\n",
        "updated_list_of_groceries = ['Lentil', 'Onion', 'Gerlic', 'Ginger', 'Potato', 'Tomato']\n",
        "groceries.extend(updated_list_of_groceries)\n",
        "print(groceries)"
      ]
    },
    {
      "cell_type": "code",
      "execution_count": null,
      "metadata": {
        "id": "Bm38drWUIevY"
      },
      "outputs": [],
      "source": [
        "groceries.extend('Lentil')"
      ]
    },
    {
      "cell_type": "code",
      "execution_count": null,
      "metadata": {
        "colab": {
          "base_uri": "https://localhost:8080/",
          "height": 106
        },
        "id": "mIHxZn-6KBLA",
        "outputId": "307ad401-798e-4811-fdf3-9f5d76663fd0"
      },
      "outputs": [
        {
          "ename": "SyntaxError",
          "evalue": "invalid decimal literal (<ipython-input-16-b032d0eaccd1>, line 1)",
          "output_type": "error",
          "traceback": [
            "\u001b[0;36m  File \u001b[0;32m\"<ipython-input-16-b032d0eaccd1>\"\u001b[0;36m, line \u001b[0;32m1\u001b[0m\n\u001b[0;31m    my_list = ['Rice', 1o, 'Egg', 12.5, [1, 'onion']]\u001b[0m\n\u001b[0m                       ^\u001b[0m\n\u001b[0;31mSyntaxError\u001b[0m\u001b[0;31m:\u001b[0m invalid decimal literal\n"
          ]
        }
      ],
      "source": [
        "my_list = ['Rice', 1o, 'Egg', 12.5, [1, 'onion']]\n",
        "print(len(my_list))"
      ]
    },
    {
      "cell_type": "code",
      "execution_count": null,
      "metadata": {
        "id": "PLXIsjPyKa1_"
      },
      "outputs": [],
      "source": []
    },
    {
      "cell_type": "markdown",
      "metadata": {
        "id": "3BENAAYaPlov"
      },
      "source": [
        "Conditional Statemnet"
      ]
    },
    {
      "cell_type": "code",
      "execution_count": null,
      "metadata": {
        "colab": {
          "base_uri": "https://localhost:8080/"
        },
        "id": "zUPKGR7nP4HP",
        "outputId": "18a180e8-4a95-41b7-cdde-be69713bc357"
      },
      "outputs": [
        {
          "name": "stdout",
          "output_type": "stream",
          "text": [
            "<class 'bool'>\n"
          ]
        }
      ],
      "source": [
        "is_boolean = True\n",
        "print(type(is_boolean))"
      ]
    },
    {
      "cell_type": "code",
      "execution_count": null,
      "metadata": {
        "colab": {
          "base_uri": "https://localhost:8080/"
        },
        "id": "LVMHK4eJQAuv",
        "outputId": "a755cdaf-c268-4802-9b71-7527e24c1cfe"
      },
      "outputs": [
        {
          "name": "stdout",
          "output_type": "stream",
          "text": [
            "Hey, its a TRUE!!!\n"
          ]
        }
      ],
      "source": [
        "if is_marid True:\n",
        "   print('Hey, its a TRUE!!!')\n",
        "   False:\n",
        "   print('Hey its not FALSE')"
      ]
    },
    {
      "cell_type": "code",
      "execution_count": null,
      "metadata": {
        "colab": {
          "base_uri": "https://localhost:8080/"
        },
        "id": "v4JtCGpvQbXX",
        "outputId": "3a6476c9-2152-4b7a-f751-0325ab3c6716"
      },
      "outputs": [
        {
          "name": "stdout",
          "output_type": "stream",
          "text": [
            "HE is married\n",
            "I am inside if conditional statement!!!\n",
            "I am outside if condition\n",
            "I am inside else conditional statement\n"
          ]
        }
      ],
      "source": [
        "is_married = True\n",
        "if is_married:\n",
        "  print('HE is married')\n",
        "  print('I am inside if conditional statement!!!')\n",
        "  print( 'I am outside if condition')\n",
        "else:\n",
        "  print(('He is unmarried'))\n",
        "  print('Iam inside else conditional Statement')\n",
        "print('I am inside else conditional statement')\n"
      ]
    },
    {
      "cell_type": "code",
      "execution_count": null,
      "metadata": {
        "id": "08NttCh5POvR"
      },
      "outputs": [],
      "source": [
        "if is_married\n",
        " print('He is married!!!')\n"
      ]
    },
    {
      "cell_type": "code",
      "execution_count": null,
      "metadata": {
        "colab": {
          "base_uri": "https://localhost:8080/"
        },
        "id": "_IcvQJgeP-mI",
        "outputId": "67f9c6d9-0b8a-42cc-98cc-88df0759f09a"
      },
      "outputs": [
        {
          "name": "stdout",
          "output_type": "stream",
          "text": [
            "please enter your name: Horse\n",
            "Horse\n",
            "okey, I dont want to buy what you are selling\n"
          ]
        }
      ],
      "source": [
        "my_farm = ['cow', 'goat']\n",
        "offering_animal = input(\"please enter your name: \")\n",
        "print(offering_animal)\n",
        "\n",
        "if offering_animal == my_farm[0]:\n",
        "  print(\"okey, I have a offer for you\")\n",
        "elif offering_animal == my_farm[1]:\n",
        "  print(\"I have a offer for you\")\n",
        "else:\n",
        "  print(\"okey, I dont want to buy what you are selling\")\n"
      ]
    },
    {
      "cell_type": "code",
      "execution_count": null,
      "metadata": {
        "colab": {
          "base_uri": "https://localhost:8080/",
          "height": 193
        },
        "id": "U2O1aj3RUx9n",
        "outputId": "a84b951c-da2d-4475-ed1c-a515815c7283"
      },
      "outputs": [
        {
          "output_type": "error",
          "ename": "NameError",
          "evalue": "name 'v' is not defined",
          "traceback": [
            "\u001b[0;31m---------------------------------------------------------------------------\u001b[0m",
            "\u001b[0;31mNameError\u001b[0m                                 Traceback (most recent call last)",
            "\u001b[0;32m<ipython-input-1-d048a909658b>\u001b[0m in \u001b[0;36m<cell line: 3>\u001b[0;34m()\u001b[0m\n\u001b[1;32m      1\u001b[0m \u001b[0mx\u001b[0m \u001b[0;34m=\u001b[0m \u001b[0;36m5\u001b[0m\u001b[0;34m\u001b[0m\u001b[0;34m\u001b[0m\u001b[0m\n\u001b[1;32m      2\u001b[0m \u001b[0my\u001b[0m \u001b[0;34m=\u001b[0m \u001b[0;36m3\u001b[0m\u001b[0;34m\u001b[0m\u001b[0;34m\u001b[0m\u001b[0m\n\u001b[0;32m----> 3\u001b[0;31m \u001b[0;32mif\u001b[0m \u001b[0mv\u001b[0m \u001b[0;34m==\u001b[0m \u001b[0;36m4\u001b[0m\u001b[0;34m:\u001b[0m\u001b[0;34m\u001b[0m\u001b[0;34m\u001b[0m\u001b[0m\n\u001b[0m\u001b[1;32m      4\u001b[0m   \u001b[0mprint\u001b[0m\u001b[0;34m(\u001b[0m\u001b[0mx\u001b[0m\u001b[0;34m)\u001b[0m\u001b[0;34m\u001b[0m\u001b[0;34m\u001b[0m\u001b[0m\n",
            "\u001b[0;31mNameError\u001b[0m: name 'v' is not defined"
          ]
        }
      ],
      "source": [
        "x = 5\n",
        "y = 3\n",
        "if v == 4:\n",
        "  print(x)"
      ]
    },
    {
      "cell_type": "markdown",
      "metadata": {
        "id": "XBu6CUg3UGg3"
      },
      "source": [
        "writedown a problem statement to check if anumber is inside a range (have"
      ]
    },
    {
      "cell_type": "code",
      "source": [
        "radious = (input(\"state the size of radious \"))\n",
        "type(radious)\n",
        "\n",
        "print( type(radious))\n",
        "radious =float(radious)\n",
        "print(type(radious))\n",
        "\n",
        "if radious == int or float:\n",
        "   area_of_circle = 3.14159 * radious\n",
        "   print(\"The area of circle is:\", area_of_circle )\n",
        "else: print( \"Invalid Input\")"
      ],
      "metadata": {
        "colab": {
          "base_uri": "https://localhost:8080/"
        },
        "id": "PpbuWYnADeOD",
        "outputId": "5eaa2c99-ff96-4f7d-b133-2b8001dc9f64"
      },
      "execution_count": null,
      "outputs": [
        {
          "output_type": "stream",
          "name": "stdout",
          "text": [
            "state the size of radious 4.6\n",
            "<class 'str'>\n",
            "<class 'float'>\n",
            "The area of circle is: 14.451313999999998\n"
          ]
        }
      ]
    },
    {
      "cell_type": "code",
      "source": [
        "Total_friend = int(input(\"Friends Total? \"))\n",
        "Distance = float(input(\"what is the distance? (in KM) \"))\n",
        "Fuel_price = float( input( \"current fuel price? :\"))\n",
        "Cost_of_trip = Distance * Fuel_price * Total_friend\n",
        "print( Total_friend , \" tour members have expend\", Cost_of_trip, \"taka\")\n"
      ],
      "metadata": {
        "colab": {
          "base_uri": "https://localhost:8080/"
        },
        "id": "YBv40BxzFqpK",
        "outputId": "4af73f1f-d5ab-4f00-d934-34c27945583c"
      },
      "execution_count": null,
      "outputs": [
        {
          "output_type": "stream",
          "name": "stdout",
          "text": [
            "Friends Total? 2\n",
            "what is the distance? (in KM) 10\n",
            "current fuel price? :30\n",
            "2  tour members have expend 600.0 taka\n"
          ]
        }
      ]
    },
    {
      "cell_type": "code",
      "source": [
        "total_budget = float(input(\"input budget: \" ))\n",
        "transportation_cost = float(input(\"input transportation cost: \" ))\n",
        "accomodation_cost = float(input(\"input accomodation cost: \" ))\n",
        "meal_cost = float(input(\"input meal cost: \" ))\n",
        "Total_expenses = transportation_cost + accomodation_cost + meal_cost\n",
        "print(\"Expense = \", Total_expenses )\n",
        "Remaining_Budget = total_budget - Total_expenses\n",
        "print(\"REMAINING BUDGET=\", Remaining_Budget )\n",
        "if Remaining_Budget <0:\n",
        "  print(\"You Have exceeded your budget by: \",Remaining_Budget )\n",
        "else:\n",
        "  print(\"You have saved\",Remaining_Budget, \"taka\" )"
      ],
      "metadata": {
        "colab": {
          "base_uri": "https://localhost:8080/"
        },
        "id": "pP7Sq2FjJwKS",
        "outputId": "fd9a60fb-feb9-455a-9544-957e68762e5e"
      },
      "execution_count": null,
      "outputs": [
        {
          "output_type": "stream",
          "name": "stdout",
          "text": [
            "input budget: 1000\n",
            "input transportation cost: 500\n",
            "input accomodation cost: 300\n",
            "input meal cost: 50\n",
            "Expense =  850.0\n",
            "REMAINING BUDGET= 150.0\n",
            "You have saved 150.0 taka\n"
          ]
        }
      ]
    },
    {
      "cell_type": "code",
      "source": [],
      "metadata": {
        "id": "IeSdk47PPs8z"
      },
      "execution_count": null,
      "outputs": []
    },
    {
      "cell_type": "code",
      "source": [
        "radious = float(input(\"Radious size: \"))\n",
        "radious_squire = radious * radious\n",
        "area = 3.14159 * radious_squire\n",
        "print(\"Area=\", area)"
      ],
      "metadata": {
        "colab": {
          "base_uri": "https://localhost:8080/"
        },
        "id": "5AZ3lvQaL1UV",
        "outputId": "48c22008-288f-4d17-cabd-b5254913fcef"
      },
      "execution_count": null,
      "outputs": [
        {
          "output_type": "stream",
          "name": "stdout",
          "text": [
            "Radious size: 5\n",
            "Area= 78.53975\n"
          ]
        }
      ]
    },
    {
      "cell_type": "code",
      "source": [
        "x = float(input(\"Input a number \"))\n",
        "\n",
        "if x%2 == 0:\n",
        "  print(\"The number is even\")\n",
        "elif x%2 == 1:\n",
        "  print(\"The number is odd\")\n",
        "elsea:\n",
        "  print(\"Invalid input\")"
      ],
      "metadata": {
        "colab": {
          "base_uri": "https://localhost:8080/"
        },
        "id": "Jb_6FjIy8IVH",
        "outputId": "659b24c9-ee1b-4d4a-8620-582346772567"
      },
      "execution_count": null,
      "outputs": [
        {
          "output_type": "stream",
          "name": "stdout",
          "text": [
            "Input a number 1\n",
            "The number is odd\n"
          ]
        }
      ]
    },
    {
      "cell_type": "code",
      "source": [
        "import math\n",
        "math.pi\n",
        "print(type(math.pow(2,5)), (math.pow(2,5)))"
      ],
      "metadata": {
        "colab": {
          "base_uri": "https://localhost:8080/"
        },
        "id": "LyEyvfOv_OQX",
        "outputId": "57bce178-2537-41a3-b62d-bb7dd26af6a6"
      },
      "execution_count": null,
      "outputs": [
        {
          "output_type": "stream",
          "name": "stdout",
          "text": [
            "<class 'float'> 32.0\n"
          ]
        }
      ]
    },
    {
      "cell_type": "code",
      "source": [
        "def jaiccha():\n",
        " return \"amar poran jaha chay\""
      ],
      "metadata": {
        "id": "CJ9wtyZraAbZ"
      },
      "execution_count": null,
      "outputs": []
    },
    {
      "cell_type": "code",
      "source": [
        "jaiccha()"
      ],
      "metadata": {
        "colab": {
          "base_uri": "https://localhost:8080/",
          "height": 35
        },
        "id": "6hwvpE63bFbZ",
        "outputId": "f6c69d4f-faf0-4769-cb2b-25dfb069e60e"
      },
      "execution_count": null,
      "outputs": [
        {
          "output_type": "execute_result",
          "data": {
            "text/plain": [
              "'amar poran jaha chay'"
            ],
            "application/vnd.google.colaboratory.intrinsic+json": {
              "type": "string"
            }
          },
          "metadata": {},
          "execution_count": 3
        }
      ]
    },
    {
      "cell_type": "code",
      "source": [
        "def matchine():\n"
      ],
      "metadata": {
        "id": "NtlSnwK8cK3x"
      },
      "execution_count": null,
      "outputs": []
    },
    {
      "cell_type": "code",
      "source": [
        "def roll_counter(base, exponent=8):\n",
        "  return base ** exponent"
      ],
      "metadata": {
        "id": "AfZkeQxKbcRB"
      },
      "execution_count": null,
      "outputs": []
    },
    {
      "cell_type": "code",
      "source": [
        "roll_counter(10)"
      ],
      "metadata": {
        "colab": {
          "base_uri": "https://localhost:8080/"
        },
        "id": "4s5Vif2edWfh",
        "outputId": "1e892264-5304-4764-8559-7653e621bd27"
      },
      "execution_count": null,
      "outputs": [
        {
          "output_type": "execute_result",
          "data": {
            "text/plain": [
              "100000000"
            ]
          },
          "metadata": {},
          "execution_count": 17
        }
      ]
    },
    {
      "cell_type": "code",
      "source": [],
      "metadata": {
        "id": "Z1OT5chreexB"
      },
      "execution_count": null,
      "outputs": []
    }
  ],
  "metadata": {
    "colab": {
      "collapsed_sections": [
        "1Ap8SIid0S5x"
      ],
      "provenance": []
    },
    "kernelspec": {
      "display_name": "Python 3",
      "name": "python3"
    },
    "language_info": {
      "name": "python"
    }
  },
  "nbformat": 4,
  "nbformat_minor": 0
}